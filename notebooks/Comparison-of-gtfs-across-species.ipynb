{
 "cells": [
  {
   "cell_type": "code",
   "execution_count": 1,
   "metadata": {},
   "outputs": [
    {
     "data": {
      "text/html": [
       "\n",
       "<style>\n",
       "   div#notebook-container    { width: 100%; }\n",
       "   div#menubar-container     { width: 100%; }\n",
       "   div#maintoolbar-container { width: 100%; }\n",
       "</style>\n"
      ],
      "text/plain": [
       "<IPython.core.display.HTML object>"
      ]
     },
     "metadata": {},
     "output_type": "display_data"
    }
   ],
   "source": [
    "from eda_imports import *"
   ]
  },
  {
   "cell_type": "code",
   "execution_count": 2,
   "metadata": {},
   "outputs": [],
   "source": [
    "pkl_files = sorted(glob.glob('../../gtf2csv-csvs/ensembl-release-93/csvs/*.pkl'))"
   ]
  },
  {
   "cell_type": "code",
   "execution_count": 3,
   "metadata": {},
   "outputs": [
    {
     "data": {
      "text/plain": [
       "116"
      ]
     },
     "execution_count": 3,
     "metadata": {},
     "output_type": "execute_result"
    }
   ],
   "source": [
    "len(pkl_files)"
   ]
  },
  {
   "cell_type": "code",
   "execution_count": 4,
   "metadata": {},
   "outputs": [
    {
     "name": "stderr",
     "output_type": "stream",
     "text": [
      "100%|██████████| 116/116 [03:42<00:00,  1.91s/it]"
     ]
    },
    {
     "name": "stdout",
     "output_type": "stream",
     "text": [
      "CPU times: user 2min 13s, sys: 1min 28s, total: 3min 41s\n",
      "Wall time: 3min 42s\n"
     ]
    },
    {
     "name": "stderr",
     "output_type": "stream",
     "text": [
      "\n"
     ]
    }
   ],
   "source": [
    "%%time\n",
    "dfs_dd = {}\n",
    "for f in tqdm(pkl_files):\n",
    "    _df = pd.read_pickle(f)\n",
    "    gtf_version = os.path.basename(f)\n",
    "    dfs_dd[gtf_version] = _df"
   ]
  },
  {
   "cell_type": "markdown",
   "metadata": {},
   "source": [
    "# Count protein-coding transcripts"
   ]
  },
  {
   "cell_type": "code",
   "execution_count": 5,
   "metadata": {},
   "outputs": [],
   "source": [
    "sorted_keys = sorted(dfs_dd.keys())"
   ]
  },
  {
   "cell_type": "code",
   "execution_count": 6,
   "metadata": {},
   "outputs": [
    {
     "name": "stderr",
     "output_type": "stream",
     "text": [
      "100%|██████████| 116/116 [00:33<00:00,  3.47it/s]"
     ]
    },
    {
     "name": "stdout",
     "output_type": "stream",
     "text": [
      "CPU times: user 29.4 s, sys: 4.07 s, total: 33.5 s\n",
      "Wall time: 33.4 s\n"
     ]
    },
    {
     "name": "stderr",
     "output_type": "stream",
     "text": [
      "\n"
     ]
    }
   ],
   "source": [
    "%%time\n",
    "trpt_biotypes_dfs = []\n",
    "for k in tqdm(sorted_keys):\n",
    "    df = dfs_dd[k]\n",
    "    vc = df[['transcript_biotype', 'transcript_id']].drop_duplicates().transcript_biotype.value_counts().to_frame().T\n",
    "    vc['gtf_version'] = k.replace('.pkl', '')\n",
    "    trpt_biotypes_dfs.append(vc)"
   ]
  },
  {
   "cell_type": "code",
   "execution_count": 7,
   "metadata": {},
   "outputs": [],
   "source": [
    "df_vc = pd.concat(trpt_biotypes_dfs, sort=True)"
   ]
  },
  {
   "cell_type": "code",
   "execution_count": 8,
   "metadata": {},
   "outputs": [],
   "source": [
    "ndf_vc = df_vc.set_index('gtf_version')"
   ]
  },
  {
   "cell_type": "code",
   "execution_count": 9,
   "metadata": {},
   "outputs": [
    {
     "data": {
      "text/html": [
       "<div>\n",
       "<style scoped>\n",
       "    .dataframe tbody tr th:only-of-type {\n",
       "        vertical-align: middle;\n",
       "    }\n",
       "\n",
       "    .dataframe tbody tr th {\n",
       "        vertical-align: top;\n",
       "    }\n",
       "\n",
       "    .dataframe thead th {\n",
       "        text-align: right;\n",
       "    }\n",
       "</style>\n",
       "<table border=\"1\" class=\"dataframe\">\n",
       "  <thead>\n",
       "    <tr style=\"text-align: right;\">\n",
       "      <th></th>\n",
       "      <th>3prime_overlapping_ncRNA</th>\n",
       "      <th>IG_C_gene</th>\n",
       "      <th>IG_C_pseudogene</th>\n",
       "      <th>IG_D_gene</th>\n",
       "      <th>IG_D_pseudogene</th>\n",
       "      <th>IG_J_gene</th>\n",
       "      <th>IG_J_pseudogene</th>\n",
       "      <th>IG_LV_gene</th>\n",
       "      <th>IG_V_gene</th>\n",
       "      <th>IG_V_pseudogene</th>\n",
       "      <th>IG_pseudogene</th>\n",
       "      <th>Mt_rRNA</th>\n",
       "      <th>Mt_tRNA</th>\n",
       "      <th>TEC</th>\n",
       "      <th>TR_C_gene</th>\n",
       "      <th>TR_D_gene</th>\n",
       "      <th>TR_J_gene</th>\n",
       "      <th>TR_J_pseudogene</th>\n",
       "      <th>TR_V_gene</th>\n",
       "      <th>TR_V_pseudogene</th>\n",
       "      <th>antisense</th>\n",
       "      <th>bidirectional_promoter_lncRNA</th>\n",
       "      <th>lincRNA</th>\n",
       "      <th>macro_lncRNA</th>\n",
       "      <th>miRNA</th>\n",
       "      <th>misc_RNA</th>\n",
       "      <th>ncRNA</th>\n",
       "      <th>non_coding</th>\n",
       "      <th>non_stop_decay</th>\n",
       "      <th>nonsense_mediated_decay</th>\n",
       "      <th>piRNA</th>\n",
       "      <th>polymorphic_pseudogene</th>\n",
       "      <th>pre_miRNA</th>\n",
       "      <th>processed_pseudogene</th>\n",
       "      <th>processed_transcript</th>\n",
       "      <th>protein_coding</th>\n",
       "      <th>pseudogene</th>\n",
       "      <th>rRNA</th>\n",
       "      <th>rRNA_pseudogene</th>\n",
       "      <th>retained_intron</th>\n",
       "      <th>ribozyme</th>\n",
       "      <th>sRNA</th>\n",
       "      <th>scRNA</th>\n",
       "      <th>scaRNA</th>\n",
       "      <th>sense_intronic</th>\n",
       "      <th>sense_overlapping</th>\n",
       "      <th>snRNA</th>\n",
       "      <th>snoRNA</th>\n",
       "      <th>tRNA</th>\n",
       "      <th>tRNA_pseudogene</th>\n",
       "      <th>transcribed_processed_pseudogene</th>\n",
       "      <th>transcribed_unitary_pseudogene</th>\n",
       "      <th>transcribed_unprocessed_pseudogene</th>\n",
       "      <th>translated_processed_pseudogene</th>\n",
       "      <th>translated_unprocessed_pseudogene</th>\n",
       "      <th>unitary_pseudogene</th>\n",
       "      <th>unknown_likely_coding</th>\n",
       "      <th>unprocessed_pseudogene</th>\n",
       "      <th>vaultRNA</th>\n",
       "    </tr>\n",
       "    <tr>\n",
       "      <th>gtf_version</th>\n",
       "      <th></th>\n",
       "      <th></th>\n",
       "      <th></th>\n",
       "      <th></th>\n",
       "      <th></th>\n",
       "      <th></th>\n",
       "      <th></th>\n",
       "      <th></th>\n",
       "      <th></th>\n",
       "      <th></th>\n",
       "      <th></th>\n",
       "      <th></th>\n",
       "      <th></th>\n",
       "      <th></th>\n",
       "      <th></th>\n",
       "      <th></th>\n",
       "      <th></th>\n",
       "      <th></th>\n",
       "      <th></th>\n",
       "      <th></th>\n",
       "      <th></th>\n",
       "      <th></th>\n",
       "      <th></th>\n",
       "      <th></th>\n",
       "      <th></th>\n",
       "      <th></th>\n",
       "      <th></th>\n",
       "      <th></th>\n",
       "      <th></th>\n",
       "      <th></th>\n",
       "      <th></th>\n",
       "      <th></th>\n",
       "      <th></th>\n",
       "      <th></th>\n",
       "      <th></th>\n",
       "      <th></th>\n",
       "      <th></th>\n",
       "      <th></th>\n",
       "      <th></th>\n",
       "      <th></th>\n",
       "      <th></th>\n",
       "      <th></th>\n",
       "      <th></th>\n",
       "      <th></th>\n",
       "      <th></th>\n",
       "      <th></th>\n",
       "      <th></th>\n",
       "      <th></th>\n",
       "      <th></th>\n",
       "      <th></th>\n",
       "      <th></th>\n",
       "      <th></th>\n",
       "      <th></th>\n",
       "      <th></th>\n",
       "      <th></th>\n",
       "      <th></th>\n",
       "      <th></th>\n",
       "      <th></th>\n",
       "      <th></th>\n",
       "    </tr>\n",
       "  </thead>\n",
       "  <tbody>\n",
       "    <tr>\n",
       "      <th>Ailuropoda_melanoleuca.ailMel1.93</th>\n",
       "      <td>NaN</td>\n",
       "      <td>NaN</td>\n",
       "      <td>NaN</td>\n",
       "      <td>NaN</td>\n",
       "      <td>NaN</td>\n",
       "      <td>NaN</td>\n",
       "      <td>NaN</td>\n",
       "      <td>NaN</td>\n",
       "      <td>NaN</td>\n",
       "      <td>NaN</td>\n",
       "      <td>NaN</td>\n",
       "      <td>2.0</td>\n",
       "      <td>22.0</td>\n",
       "      <td>NaN</td>\n",
       "      <td>NaN</td>\n",
       "      <td>NaN</td>\n",
       "      <td>NaN</td>\n",
       "      <td>NaN</td>\n",
       "      <td>NaN</td>\n",
       "      <td>NaN</td>\n",
       "      <td>NaN</td>\n",
       "      <td>NaN</td>\n",
       "      <td>NaN</td>\n",
       "      <td>NaN</td>\n",
       "      <td>743.0</td>\n",
       "      <td>358.0</td>\n",
       "      <td>NaN</td>\n",
       "      <td>NaN</td>\n",
       "      <td>NaN</td>\n",
       "      <td>NaN</td>\n",
       "      <td>NaN</td>\n",
       "      <td>NaN</td>\n",
       "      <td>NaN</td>\n",
       "      <td>9.0</td>\n",
       "      <td>NaN</td>\n",
       "      <td>21136</td>\n",
       "      <td>769.0</td>\n",
       "      <td>146</td>\n",
       "      <td>NaN</td>\n",
       "      <td>NaN</td>\n",
       "      <td>NaN</td>\n",
       "      <td>NaN</td>\n",
       "      <td>NaN</td>\n",
       "      <td>NaN</td>\n",
       "      <td>NaN</td>\n",
       "      <td>NaN</td>\n",
       "      <td>1211.0</td>\n",
       "      <td>659.0</td>\n",
       "      <td>NaN</td>\n",
       "      <td>NaN</td>\n",
       "      <td>NaN</td>\n",
       "      <td>NaN</td>\n",
       "      <td>NaN</td>\n",
       "      <td>NaN</td>\n",
       "      <td>NaN</td>\n",
       "      <td>NaN</td>\n",
       "      <td>NaN</td>\n",
       "      <td>NaN</td>\n",
       "      <td>NaN</td>\n",
       "    </tr>\n",
       "    <tr>\n",
       "      <th>Anas_platyrhynchos.BGI_duck_1.0.93</th>\n",
       "      <td>NaN</td>\n",
       "      <td>NaN</td>\n",
       "      <td>NaN</td>\n",
       "      <td>NaN</td>\n",
       "      <td>NaN</td>\n",
       "      <td>NaN</td>\n",
       "      <td>NaN</td>\n",
       "      <td>NaN</td>\n",
       "      <td>NaN</td>\n",
       "      <td>NaN</td>\n",
       "      <td>NaN</td>\n",
       "      <td>NaN</td>\n",
       "      <td>NaN</td>\n",
       "      <td>NaN</td>\n",
       "      <td>NaN</td>\n",
       "      <td>NaN</td>\n",
       "      <td>NaN</td>\n",
       "      <td>NaN</td>\n",
       "      <td>NaN</td>\n",
       "      <td>NaN</td>\n",
       "      <td>NaN</td>\n",
       "      <td>NaN</td>\n",
       "      <td>NaN</td>\n",
       "      <td>NaN</td>\n",
       "      <td>311.0</td>\n",
       "      <td>24.0</td>\n",
       "      <td>NaN</td>\n",
       "      <td>NaN</td>\n",
       "      <td>NaN</td>\n",
       "      <td>NaN</td>\n",
       "      <td>NaN</td>\n",
       "      <td>NaN</td>\n",
       "      <td>NaN</td>\n",
       "      <td>NaN</td>\n",
       "      <td>NaN</td>\n",
       "      <td>16353</td>\n",
       "      <td>249.0</td>\n",
       "      <td>13</td>\n",
       "      <td>NaN</td>\n",
       "      <td>NaN</td>\n",
       "      <td>NaN</td>\n",
       "      <td>NaN</td>\n",
       "      <td>NaN</td>\n",
       "      <td>NaN</td>\n",
       "      <td>NaN</td>\n",
       "      <td>NaN</td>\n",
       "      <td>46.0</td>\n",
       "      <td>173.0</td>\n",
       "      <td>NaN</td>\n",
       "      <td>NaN</td>\n",
       "      <td>NaN</td>\n",
       "      <td>NaN</td>\n",
       "      <td>NaN</td>\n",
       "      <td>NaN</td>\n",
       "      <td>NaN</td>\n",
       "      <td>NaN</td>\n",
       "      <td>NaN</td>\n",
       "      <td>NaN</td>\n",
       "      <td>NaN</td>\n",
       "    </tr>\n",
       "    <tr>\n",
       "      <th>Anolis_carolinensis.AnoCar2.0.93</th>\n",
       "      <td>NaN</td>\n",
       "      <td>NaN</td>\n",
       "      <td>NaN</td>\n",
       "      <td>NaN</td>\n",
       "      <td>NaN</td>\n",
       "      <td>NaN</td>\n",
       "      <td>NaN</td>\n",
       "      <td>NaN</td>\n",
       "      <td>NaN</td>\n",
       "      <td>NaN</td>\n",
       "      <td>NaN</td>\n",
       "      <td>2.0</td>\n",
       "      <td>22.0</td>\n",
       "      <td>NaN</td>\n",
       "      <td>NaN</td>\n",
       "      <td>NaN</td>\n",
       "      <td>NaN</td>\n",
       "      <td>NaN</td>\n",
       "      <td>NaN</td>\n",
       "      <td>NaN</td>\n",
       "      <td>NaN</td>\n",
       "      <td>NaN</td>\n",
       "      <td>4679.0</td>\n",
       "      <td>NaN</td>\n",
       "      <td>423.0</td>\n",
       "      <td>277.0</td>\n",
       "      <td>NaN</td>\n",
       "      <td>NaN</td>\n",
       "      <td>NaN</td>\n",
       "      <td>NaN</td>\n",
       "      <td>NaN</td>\n",
       "      <td>NaN</td>\n",
       "      <td>NaN</td>\n",
       "      <td>11.0</td>\n",
       "      <td>NaN</td>\n",
       "      <td>19176</td>\n",
       "      <td>146.0</td>\n",
       "      <td>1980</td>\n",
       "      <td>NaN</td>\n",
       "      <td>NaN</td>\n",
       "      <td>NaN</td>\n",
       "      <td>NaN</td>\n",
       "      <td>NaN</td>\n",
       "      <td>NaN</td>\n",
       "      <td>NaN</td>\n",
       "      <td>NaN</td>\n",
       "      <td>200.0</td>\n",
       "      <td>256.0</td>\n",
       "      <td>NaN</td>\n",
       "      <td>NaN</td>\n",
       "      <td>NaN</td>\n",
       "      <td>NaN</td>\n",
       "      <td>NaN</td>\n",
       "      <td>NaN</td>\n",
       "      <td>NaN</td>\n",
       "      <td>NaN</td>\n",
       "      <td>NaN</td>\n",
       "      <td>NaN</td>\n",
       "      <td>NaN</td>\n",
       "    </tr>\n",
       "    <tr>\n",
       "      <th>Aotus_nancymaae.Anan_2.0.93</th>\n",
       "      <td>NaN</td>\n",
       "      <td>16.0</td>\n",
       "      <td>NaN</td>\n",
       "      <td>NaN</td>\n",
       "      <td>NaN</td>\n",
       "      <td>NaN</td>\n",
       "      <td>NaN</td>\n",
       "      <td>NaN</td>\n",
       "      <td>39.0</td>\n",
       "      <td>NaN</td>\n",
       "      <td>NaN</td>\n",
       "      <td>NaN</td>\n",
       "      <td>NaN</td>\n",
       "      <td>NaN</td>\n",
       "      <td>5.0</td>\n",
       "      <td>NaN</td>\n",
       "      <td>NaN</td>\n",
       "      <td>NaN</td>\n",
       "      <td>32.0</td>\n",
       "      <td>NaN</td>\n",
       "      <td>NaN</td>\n",
       "      <td>NaN</td>\n",
       "      <td>1829.0</td>\n",
       "      <td>NaN</td>\n",
       "      <td>897.0</td>\n",
       "      <td>2945.0</td>\n",
       "      <td>NaN</td>\n",
       "      <td>NaN</td>\n",
       "      <td>NaN</td>\n",
       "      <td>NaN</td>\n",
       "      <td>NaN</td>\n",
       "      <td>NaN</td>\n",
       "      <td>NaN</td>\n",
       "      <td>97.0</td>\n",
       "      <td>NaN</td>\n",
       "      <td>42418</td>\n",
       "      <td>299.0</td>\n",
       "      <td>585</td>\n",
       "      <td>NaN</td>\n",
       "      <td>NaN</td>\n",
       "      <td>6.0</td>\n",
       "      <td>NaN</td>\n",
       "      <td>NaN</td>\n",
       "      <td>45.0</td>\n",
       "      <td>NaN</td>\n",
       "      <td>NaN</td>\n",
       "      <td>1931.0</td>\n",
       "      <td>701.0</td>\n",
       "      <td>NaN</td>\n",
       "      <td>NaN</td>\n",
       "      <td>NaN</td>\n",
       "      <td>NaN</td>\n",
       "      <td>NaN</td>\n",
       "      <td>NaN</td>\n",
       "      <td>NaN</td>\n",
       "      <td>NaN</td>\n",
       "      <td>NaN</td>\n",
       "      <td>NaN</td>\n",
       "      <td>NaN</td>\n",
       "    </tr>\n",
       "    <tr>\n",
       "      <th>Astyanax_mexicanus.AstMex102.93</th>\n",
       "      <td>NaN</td>\n",
       "      <td>NaN</td>\n",
       "      <td>NaN</td>\n",
       "      <td>NaN</td>\n",
       "      <td>NaN</td>\n",
       "      <td>NaN</td>\n",
       "      <td>NaN</td>\n",
       "      <td>NaN</td>\n",
       "      <td>NaN</td>\n",
       "      <td>NaN</td>\n",
       "      <td>NaN</td>\n",
       "      <td>NaN</td>\n",
       "      <td>NaN</td>\n",
       "      <td>NaN</td>\n",
       "      <td>NaN</td>\n",
       "      <td>NaN</td>\n",
       "      <td>NaN</td>\n",
       "      <td>NaN</td>\n",
       "      <td>NaN</td>\n",
       "      <td>NaN</td>\n",
       "      <td>NaN</td>\n",
       "      <td>NaN</td>\n",
       "      <td>1499.0</td>\n",
       "      <td>NaN</td>\n",
       "      <td>398.0</td>\n",
       "      <td>15.0</td>\n",
       "      <td>NaN</td>\n",
       "      <td>NaN</td>\n",
       "      <td>NaN</td>\n",
       "      <td>NaN</td>\n",
       "      <td>NaN</td>\n",
       "      <td>NaN</td>\n",
       "      <td>NaN</td>\n",
       "      <td>1.0</td>\n",
       "      <td>NaN</td>\n",
       "      <td>23698</td>\n",
       "      <td>20.0</td>\n",
       "      <td>35</td>\n",
       "      <td>NaN</td>\n",
       "      <td>NaN</td>\n",
       "      <td>NaN</td>\n",
       "      <td>NaN</td>\n",
       "      <td>NaN</td>\n",
       "      <td>NaN</td>\n",
       "      <td>NaN</td>\n",
       "      <td>NaN</td>\n",
       "      <td>60.0</td>\n",
       "      <td>201.0</td>\n",
       "      <td>NaN</td>\n",
       "      <td>NaN</td>\n",
       "      <td>NaN</td>\n",
       "      <td>NaN</td>\n",
       "      <td>NaN</td>\n",
       "      <td>NaN</td>\n",
       "      <td>NaN</td>\n",
       "      <td>NaN</td>\n",
       "      <td>NaN</td>\n",
       "      <td>NaN</td>\n",
       "      <td>NaN</td>\n",
       "    </tr>\n",
       "  </tbody>\n",
       "</table>\n",
       "</div>"
      ],
      "text/plain": [
       "                                    3prime_overlapping_ncRNA  IG_C_gene  IG_C_pseudogene  IG_D_gene  IG_D_pseudogene  IG_J_gene  IG_J_pseudogene  IG_LV_gene  IG_V_gene  IG_V_pseudogene  IG_pseudogene  Mt_rRNA  Mt_tRNA  TEC  TR_C_gene  TR_D_gene  TR_J_gene  TR_J_pseudogene  TR_V_gene  \\\n",
       "gtf_version                                                                                                                                                                                                                                                                                   \n",
       "Ailuropoda_melanoleuca.ailMel1.93  NaN                       NaN        NaN              NaN        NaN              NaN        NaN              NaN         NaN        NaN              NaN             2.0      22.0    NaN  NaN        NaN        NaN        NaN              NaN          \n",
       "Anas_platyrhynchos.BGI_duck_1.0.93 NaN                       NaN        NaN              NaN        NaN              NaN        NaN              NaN         NaN        NaN              NaN            NaN      NaN      NaN  NaN        NaN        NaN        NaN              NaN          \n",
       "Anolis_carolinensis.AnoCar2.0.93   NaN                       NaN        NaN              NaN        NaN              NaN        NaN              NaN         NaN        NaN              NaN             2.0      22.0    NaN  NaN        NaN        NaN        NaN              NaN          \n",
       "Aotus_nancymaae.Anan_2.0.93        NaN                        16.0      NaN              NaN        NaN              NaN        NaN              NaN          39.0      NaN              NaN            NaN      NaN      NaN   5.0       NaN        NaN        NaN               32.0        \n",
       "Astyanax_mexicanus.AstMex102.93    NaN                       NaN        NaN              NaN        NaN              NaN        NaN              NaN         NaN        NaN              NaN            NaN      NaN      NaN  NaN        NaN        NaN        NaN              NaN          \n",
       "\n",
       "                                    TR_V_pseudogene  antisense  bidirectional_promoter_lncRNA  lincRNA  macro_lncRNA  miRNA  misc_RNA  ncRNA  non_coding  non_stop_decay  nonsense_mediated_decay  piRNA  polymorphic_pseudogene  pre_miRNA  processed_pseudogene  processed_transcript  protein_coding  \\\n",
       "gtf_version                                                                                                                                                                                                                                                                                               \n",
       "Ailuropoda_melanoleuca.ailMel1.93  NaN              NaN        NaN                            NaN      NaN            743.0  358.0    NaN    NaN         NaN             NaN                      NaN    NaN                     NaN         9.0                  NaN                    21136            \n",
       "Anas_platyrhynchos.BGI_duck_1.0.93 NaN              NaN        NaN                            NaN      NaN            311.0  24.0     NaN    NaN         NaN             NaN                      NaN    NaN                     NaN        NaN                   NaN                    16353            \n",
       "Anolis_carolinensis.AnoCar2.0.93   NaN              NaN        NaN                             4679.0  NaN            423.0  277.0    NaN    NaN         NaN             NaN                      NaN    NaN                     NaN         11.0                 NaN                    19176            \n",
       "Aotus_nancymaae.Anan_2.0.93        NaN              NaN        NaN                             1829.0  NaN            897.0  2945.0   NaN    NaN         NaN             NaN                      NaN    NaN                     NaN         97.0                 NaN                    42418            \n",
       "Astyanax_mexicanus.AstMex102.93    NaN              NaN        NaN                             1499.0  NaN            398.0  15.0     NaN    NaN         NaN             NaN                      NaN    NaN                     NaN         1.0                  NaN                    23698            \n",
       "\n",
       "                                    pseudogene  rRNA  rRNA_pseudogene  retained_intron  ribozyme  sRNA  scRNA  scaRNA  sense_intronic  sense_overlapping   snRNA  snoRNA  tRNA  tRNA_pseudogene  transcribed_processed_pseudogene  transcribed_unitary_pseudogene  transcribed_unprocessed_pseudogene  \\\n",
       "gtf_version                                                                                                                                                                                                                                                                                             \n",
       "Ailuropoda_melanoleuca.ailMel1.93   769.0       146  NaN              NaN              NaN       NaN   NaN    NaN     NaN             NaN                 1211.0  659.0  NaN   NaN              NaN                               NaN                             NaN                                   \n",
       "Anas_platyrhynchos.BGI_duck_1.0.93  249.0       13   NaN              NaN              NaN       NaN   NaN    NaN     NaN             NaN                 46.0    173.0  NaN   NaN              NaN                               NaN                             NaN                                   \n",
       "Anolis_carolinensis.AnoCar2.0.93    146.0       1980 NaN              NaN              NaN       NaN   NaN    NaN     NaN             NaN                 200.0   256.0  NaN   NaN              NaN                               NaN                             NaN                                   \n",
       "Aotus_nancymaae.Anan_2.0.93         299.0       585  NaN              NaN               6.0      NaN   NaN     45.0   NaN             NaN                 1931.0  701.0  NaN   NaN              NaN                               NaN                             NaN                                   \n",
       "Astyanax_mexicanus.AstMex102.93     20.0        35   NaN              NaN              NaN       NaN   NaN    NaN     NaN             NaN                 60.0    201.0  NaN   NaN              NaN                               NaN                             NaN                                   \n",
       "\n",
       "                                    translated_processed_pseudogene  translated_unprocessed_pseudogene  unitary_pseudogene  unknown_likely_coding  unprocessed_pseudogene  vaultRNA  \n",
       "gtf_version                                                                                                                                                                          \n",
       "Ailuropoda_melanoleuca.ailMel1.93  NaN                              NaN                                NaN                 NaN                    NaN                     NaN        \n",
       "Anas_platyrhynchos.BGI_duck_1.0.93 NaN                              NaN                                NaN                 NaN                    NaN                     NaN        \n",
       "Anolis_carolinensis.AnoCar2.0.93   NaN                              NaN                                NaN                 NaN                    NaN                     NaN        \n",
       "Aotus_nancymaae.Anan_2.0.93        NaN                              NaN                                NaN                 NaN                    NaN                     NaN        \n",
       "Astyanax_mexicanus.AstMex102.93    NaN                              NaN                                NaN                 NaN                    NaN                     NaN        "
      ]
     },
     "execution_count": 9,
     "metadata": {},
     "output_type": "execute_result"
    }
   ],
   "source": [
    "ndf_vc.head()"
   ]
  },
  {
   "cell_type": "code",
   "execution_count": 10,
   "metadata": {},
   "outputs": [],
   "source": [
    "ndf_vc = ndf_vc[np.sort(ndf_vc.columns)]"
   ]
  },
  {
   "cell_type": "code",
   "execution_count": 11,
   "metadata": {},
   "outputs": [],
   "source": [
    "mus_musculus_to_ignore = [_ for _ in ndf_vc.index.values if _.startswith('Mus_musculus') and _ != 'Mus_musculus.GRCm38.93']"
   ]
  },
  {
   "cell_type": "code",
   "execution_count": 12,
   "metadata": {},
   "outputs": [
    {
     "data": {
      "text/plain": [
       "['Mus_musculus_129s1svimj.129S1_SvImJ_v1.93',\n",
       " 'Mus_musculus_aj.A_J_v1.93',\n",
       " 'Mus_musculus_akrj.AKR_J_v1.93',\n",
       " 'Mus_musculus_balbcj.BALB_cJ_v1.93',\n",
       " 'Mus_musculus_c3hhej.C3H_HeJ_v1.93',\n",
       " 'Mus_musculus_c57bl6nj.C57BL_6NJ_v1.93',\n",
       " 'Mus_musculus_casteij.CAST_EiJ_v1.93',\n",
       " 'Mus_musculus_cbaj.CBA_J_v1.93',\n",
       " 'Mus_musculus_dba2j.DBA_2J_v1.93',\n",
       " 'Mus_musculus_fvbnj.FVB_NJ_v1.93',\n",
       " 'Mus_musculus_lpj.LP_J_v1.93',\n",
       " 'Mus_musculus_nodshiltj.NOD_ShiLtJ_v1.93',\n",
       " 'Mus_musculus_nzohlltj.NZO_HlLtJ_v1.93',\n",
       " 'Mus_musculus_pwkphj.PWK_PhJ_v1.93',\n",
       " 'Mus_musculus_wsbeij.WSB_EiJ_v1.93']"
      ]
     },
     "execution_count": 12,
     "metadata": {},
     "output_type": "execute_result"
    }
   ],
   "source": [
    "mus_musculus_to_ignore"
   ]
  },
  {
   "cell_type": "code",
   "execution_count": 13,
   "metadata": {},
   "outputs": [],
   "source": [
    "ndf_vc.drop(mus_musculus_to_ignore, inplace=True)"
   ]
  },
  {
   "cell_type": "code",
   "execution_count": 14,
   "metadata": {},
   "outputs": [
    {
     "data": {
      "text/plain": [
       "Index(['3prime_overlapping_ncRNA', 'IG_C_gene', 'IG_C_pseudogene', 'IG_D_gene', 'IG_D_pseudogene', 'IG_J_gene', 'IG_J_pseudogene', 'IG_LV_gene', 'IG_V_gene', 'IG_V_pseudogene', 'IG_pseudogene', 'Mt_rRNA', 'Mt_tRNA', 'TEC', 'TR_C_gene', 'TR_D_gene', 'TR_J_gene', 'TR_J_pseudogene', 'TR_V_gene',\n",
       "       'TR_V_pseudogene', 'antisense', 'bidirectional_promoter_lncRNA', 'lincRNA', 'macro_lncRNA', 'miRNA', 'misc_RNA', 'ncRNA', 'non_coding', 'non_stop_decay', 'nonsense_mediated_decay', 'piRNA', 'polymorphic_pseudogene', 'pre_miRNA', 'processed_pseudogene', 'processed_transcript',\n",
       "       'protein_coding', 'pseudogene', 'rRNA', 'rRNA_pseudogene', 'retained_intron', 'ribozyme', 'sRNA', 'scRNA', 'scaRNA', 'sense_intronic', 'sense_overlapping', 'snRNA', 'snoRNA', 'tRNA', 'tRNA_pseudogene', 'transcribed_processed_pseudogene', 'transcribed_unitary_pseudogene',\n",
       "       'transcribed_unprocessed_pseudogene', 'translated_processed_pseudogene', 'translated_unprocessed_pseudogene', 'unitary_pseudogene', 'unknown_likely_coding', 'unprocessed_pseudogene', 'vaultRNA'],\n",
       "      dtype='object')"
      ]
     },
     "execution_count": 14,
     "metadata": {},
     "output_type": "execute_result"
    }
   ],
   "source": [
    "ndf_vc.columns"
   ]
  },
  {
   "cell_type": "code",
   "execution_count": 15,
   "metadata": {},
   "outputs": [],
   "source": [
    "HIGHLIGHT_SPECIES    =    [\n",
    "    'Saccharomyces_cerevisiae.R64-1-1.93',\n",
    "    'Drosophila_melanogaster.BDGP6.93',\n",
    "    'Gallus_gallus.Gallus_gallus-5.0.93',    #    chicken\n",
    "    'Xenopus_tropicalis.JGI_4.2.93',\n",
    "    'Canis_familiaris.CanFam3.1.93',    #    dog\n",
    "    'Homo_sapiens.GRCh38.93',\n",
    "    'Bos_taurus.UMD3.1.93',\n",
    "    'Caenorhabditis_elegans.WBcel235.93',\n",
    "    'Mus_musculus.GRCm38.93',\n",
    "    'Rattus_norvegicus.Rnor_6.0.93',\n",
    "    'Danio_rerio.GRCz11.93',    #    zebra fish\n",
    "]"
   ]
  },
  {
   "cell_type": "code",
   "execution_count": 16,
   "metadata": {},
   "outputs": [],
   "source": [
    "def color_species(s):\n",
    "    for h in HIGHLIGHT_SPECIES:\n",
    "        if s.startswith(h):\n",
    "            return 'red'\n",
    "    return 'black'"
   ]
  },
  {
   "cell_type": "code",
   "execution_count": null,
   "metadata": {},
   "outputs": [
    {
     "name": "stderr",
     "output_type": "stream",
     "text": [
      "\r",
      "  0%|          | 0/59 [00:00<?, ?it/s]"
     ]
    }
   ],
   "source": [
    "%%time\n",
    "for trpt_type in tqdm(ndf_vc.columns):\n",
    "    fig, ax = plt.subplots(1, 1, figsize=(40, 8))\n",
    "\n",
    "    sr = ndf_vc[trpt_type].sort_values()\n",
    "\n",
    "    colors = [color_species(_) for _ in ndf_vc.index]\n",
    "\n",
    "    sr.plot.bar(ax=ax, color=colors)\n",
    "\n",
    "#     for t in ax.xaxis.get_major_ticks():\n",
    "#         t.label.set_horizontalalignment('right')\n",
    "\n",
    "    ax.yaxis.grid()\n",
    "    ax.set_title(f'{trpt_type}_transcripts', fontsize=25)\n",
    "    ax.set_ylabel('#')\n",
    "    \n",
    "    out = f'../../gtf2csv-csvs/ensembl-release-93/figs/transcripts/{trpt_type}_transcripts.jpg'\n",
    "    plt.savefig(out, bbox_inches='tight', dpi=200)\n",
    "    fig.clf()\n",
    "    plt.close(fig)\n",
    "#     break"
   ]
  },
  {
   "cell_type": "markdown",
   "metadata": {},
   "source": [
    "# Plot total number of transcripts"
   ]
  },
  {
   "cell_type": "code",
   "execution_count": null,
   "metadata": {},
   "outputs": [],
   "source": [
    "fig, ax = plt.subplots(1, 1, figsize=(40, 8))\n",
    "\n",
    "sr = ndf_vc.sum(axis=1).astype(int).sort_values()\n",
    "colors = [color_species(_) for _ in ndf_vc.index]\n",
    "\n",
    "sr.plot.bar(ax=ax, color=colors)\n",
    "\n",
    "ax.yaxis.grid()\n",
    "ax.set_title(f'{trpt_type}_transcripts', fontsize=25)\n",
    "ax.set_ylabel('#')\n",
    "\n",
    "out = f'../../gtf2csv-csvs/ensembl-release-93/figs/transcripts/all_transcripts.jpg'\n",
    "plt.savefig(out, bbox_inches='tight', dpi=200)"
   ]
  },
  {
   "cell_type": "markdown",
   "metadata": {},
   "source": [
    "# Count protein coding genes"
   ]
  },
  {
   "cell_type": "code",
   "execution_count": null,
   "metadata": {},
   "outputs": [],
   "source": [
    "res_dd = {}\n",
    "for k in tqdm(sorted_keys):\n",
    "    _df = dfs_dd[k]\n",
    "    k2 = k.replace('.pkl', '')\n",
    "    res_dd[k2] = _df.query('gene_biotype == \"protein_coding\"').gene_id.unique().shape[0]"
   ]
  },
  {
   "cell_type": "code",
   "execution_count": null,
   "metadata": {},
   "outputs": [],
   "source": [
    "df_num_genes = pd.DataFrame(list(res_dd.items()), columns=['gtf_version', 'num_genes'])"
   ]
  },
  {
   "cell_type": "code",
   "execution_count": null,
   "metadata": {},
   "outputs": [],
   "source": [
    "df_num_genes.head()"
   ]
  },
  {
   "cell_type": "code",
   "execution_count": null,
   "metadata": {},
   "outputs": [],
   "source": [
    "df_num_trpts = ndf_vc['protein_coding'].reset_index().rename(columns={'protein_coding': 'num_protein_coding_trpts'})"
   ]
  },
  {
   "cell_type": "code",
   "execution_count": null,
   "metadata": {},
   "outputs": [],
   "source": [
    "df_num_genes.head(2)"
   ]
  },
  {
   "cell_type": "code",
   "execution_count": null,
   "metadata": {},
   "outputs": [],
   "source": [
    "df_num_trpts.head(2)"
   ]
  },
  {
   "cell_type": "code",
   "execution_count": null,
   "metadata": {},
   "outputs": [],
   "source": [
    "merged = df_num_genes.merge(df_num_trpts, on='gtf_version')"
   ]
  },
  {
   "cell_type": "code",
   "execution_count": null,
   "metadata": {},
   "outputs": [],
   "source": [
    "merged['color'] = merged.gtf_version.apply(color_species)"
   ]
  },
  {
   "cell_type": "code",
   "execution_count": null,
   "metadata": {},
   "outputs": [],
   "source": [
    "merged = merged.sort_values('num_genes').set_index('gtf_version')"
   ]
  },
  {
   "cell_type": "code",
   "execution_count": null,
   "metadata": {},
   "outputs": [],
   "source": [
    "merged.head()"
   ]
  },
  {
   "cell_type": "code",
   "execution_count": null,
   "metadata": {},
   "outputs": [],
   "source": [
    "ax = merged['num_genes'].plot.bar(color=merged.color.values, figsize=(40, 8))\n",
    "ax.yaxis.grid()\n",
    "\n",
    "ax.set_title('Number of protein coding genes', fontsize=25)\n",
    "ax.set_ylabel('#')\n",
    "\n",
    "out = f'../../gtf2csv-csvs/ensembl-release-93/figs/num_protein_coding_genes.jpg'\n",
    "plt.savefig(out, bbox_inches='tight', dpi=200)\n",
    "fig.clf()\n",
    "plt.close(fig)"
   ]
  },
  {
   "cell_type": "code",
   "execution_count": null,
   "metadata": {},
   "outputs": [],
   "source": [
    "merged.head(2)"
   ]
  },
  {
   "cell_type": "code",
   "execution_count": null,
   "metadata": {},
   "outputs": [],
   "source": [
    "from adjustText import adjust_text"
   ]
  },
  {
   "cell_type": "code",
   "execution_count": null,
   "metadata": {},
   "outputs": [],
   "source": [
    "ax = merged.plot.scatter(x='num_genes', y='num_protein_coding_trpts', edgecolor='none', figsize=(15, 10), color=merged.color.values)\n",
    "\n",
    "texts = []\n",
    "for k, row in merged.query(f'gtf_version in {HIGHLIGHT_SPECIES}').iterrows():\n",
    "    txt = ax.text(row.num_genes, row.num_protein_coding_trpts, k)\n",
    "    texts.append(txt)\n",
    "adjust_text(texts)\n",
    "\n",
    "ax.set_xticks(np.arange(5000, 30000, 1000))\n",
    "ax.set_yticks(np.arange(5000, 90000, 2500))\n",
    "ax.set_xlabel('# protein coding genes', fontsize=15)\n",
    "ax.set_ylabel('# protein coding transcripts', fontsize=15)\n",
    "ax.grid()\n",
    "out = f'../../gtf2csv-csvs/ensembl-release-93/figs/num_protein_coding_genes_vs_transcripts.jpg'\n",
    "plt.savefig(out, bbox_inches='tight', dpi=200)"
   ]
  },
  {
   "cell_type": "code",
   "execution_count": null,
   "metadata": {},
   "outputs": [],
   "source": []
  }
 ],
 "metadata": {
  "anaconda-cloud": {},
  "kernelspec": {
   "display_name": "Python 3",
   "language": "python",
   "name": "python3"
  },
  "language_info": {
   "codemirror_mode": {
    "name": "ipython",
    "version": 3
   },
   "file_extension": ".py",
   "mimetype": "text/x-python",
   "name": "python",
   "nbconvert_exporter": "python",
   "pygments_lexer": "ipython3",
   "version": "3.6.4"
  }
 },
 "nbformat": 4,
 "nbformat_minor": 2
}
