{
 "cells": [
  {
   "cell_type": "code",
   "execution_count": 1,
   "metadata": {
    "collapsed": false
   },
   "outputs": [],
   "source": [
    "import pandas as pd\n",
    "pd.set_option('display.max_columns', 250)\n",
    "# Don't cut off long string\n",
    "# http://stackoverflow.com/questions/26277757/pandas-to-html-truncates-string-contents\n",
    "pd.set_option('display.max_colwidth', -1)\n",
    "\n",
    "\n",
    "from IPython.display import display\n",
    "\n",
    "# for auto-reloading external modules\n",
    "# see http://stackoverflow.com/questions/1907993/autoreload-of-modules-in-ipython\n",
    "%load_ext autoreload\n",
    "%autoreload 2"
   ]
  },
  {
   "cell_type": "markdown",
   "metadata": {},
   "source": [
    "# Extracting mapping information from annotation"
   ]
  },
  {
   "cell_type": "code",
   "execution_count": 2,
   "metadata": {
    "collapsed": false
   },
   "outputs": [],
   "source": [
    "ndf1 = pd.read_csv('./examples/Homo_sapiens.GRCh37.75.csv', nrows=100)"
   ]
  },
  {
   "cell_type": "code",
   "execution_count": 3,
   "metadata": {
    "collapsed": false
   },
   "outputs": [
    {
     "name": "stdout",
     "output_type": "stream",
     "text": [
      " 1 seqname                      2 source                       3 feature                     \n",
      " 4 start                        5 end                          6 score                       \n",
      " 7 strand                       8 frame                        9 CCDS                        \n",
      "10 ccds_id                     11 cds_end_NF                  12 cds_start_NF                \n",
      "13 exon_id                     14 exon_number                 15 gene_biotype                \n",
      "16 gene_id                     17 gene_name                   18 gene_source                 \n",
      "19 mRNA_end_NF                 20 mRNA_start_NF               21 protein_id                  \n",
      "22 seleno                      23 transcript_id               24 transcript_name             \n",
      "25 transcript_source           "
     ]
    }
   ],
   "source": [
    "_cols = ndf1.columns.tolist()\n",
    "for k, i in enumerate(_cols):\n",
    "    if k % 3 == 0 and k > 0:\n",
    "        print()\n",
    "    print('{0:2d} {1:28s}'.format(k + 1, i), end='')"
   ]
  },
  {
   "cell_type": "code",
   "execution_count": 4,
   "metadata": {
    "collapsed": false
   },
   "outputs": [
    {
     "data": {
      "text/html": [
       "<div>\n",
       "<style>\n",
       "    .dataframe thead tr:only-child th {\n",
       "        text-align: right;\n",
       "    }\n",
       "\n",
       "    .dataframe thead th {\n",
       "        text-align: left;\n",
       "    }\n",
       "\n",
       "    .dataframe tbody tr th {\n",
       "        vertical-align: top;\n",
       "    }\n",
       "</style>\n",
       "<table border=\"1\" class=\"dataframe\">\n",
       "  <thead>\n",
       "    <tr style=\"text-align: right;\">\n",
       "      <th></th>\n",
       "      <th>seqname</th>\n",
       "      <th>source</th>\n",
       "      <th>feature</th>\n",
       "      <th>start</th>\n",
       "      <th>end</th>\n",
       "      <th>score</th>\n",
       "      <th>strand</th>\n",
       "      <th>frame</th>\n",
       "      <th>CCDS</th>\n",
       "      <th>ccds_id</th>\n",
       "      <th>cds_end_NF</th>\n",
       "      <th>cds_start_NF</th>\n",
       "      <th>exon_id</th>\n",
       "      <th>exon_number</th>\n",
       "      <th>gene_biotype</th>\n",
       "      <th>gene_id</th>\n",
       "      <th>gene_name</th>\n",
       "      <th>gene_source</th>\n",
       "      <th>mRNA_end_NF</th>\n",
       "      <th>mRNA_start_NF</th>\n",
       "      <th>protein_id</th>\n",
       "      <th>seleno</th>\n",
       "      <th>transcript_id</th>\n",
       "      <th>transcript_name</th>\n",
       "      <th>transcript_source</th>\n",
       "    </tr>\n",
       "  </thead>\n",
       "  <tbody>\n",
       "    <tr>\n",
       "      <th>0</th>\n",
       "      <td>1</td>\n",
       "      <td>pseudogene</td>\n",
       "      <td>gene</td>\n",
       "      <td>11869</td>\n",
       "      <td>14412</td>\n",
       "      <td>.</td>\n",
       "      <td>+</td>\n",
       "      <td>.</td>\n",
       "      <td>NaN</td>\n",
       "      <td>NaN</td>\n",
       "      <td>NaN</td>\n",
       "      <td>NaN</td>\n",
       "      <td>NaN</td>\n",
       "      <td>NaN</td>\n",
       "      <td>pseudogene</td>\n",
       "      <td>ENSG00000223972</td>\n",
       "      <td>DDX11L1</td>\n",
       "      <td>ensembl_havana</td>\n",
       "      <td>NaN</td>\n",
       "      <td>NaN</td>\n",
       "      <td>NaN</td>\n",
       "      <td>NaN</td>\n",
       "      <td>NaN</td>\n",
       "      <td>NaN</td>\n",
       "      <td>NaN</td>\n",
       "    </tr>\n",
       "    <tr>\n",
       "      <th>1</th>\n",
       "      <td>1</td>\n",
       "      <td>processed_transcript</td>\n",
       "      <td>transcript</td>\n",
       "      <td>11869</td>\n",
       "      <td>14409</td>\n",
       "      <td>.</td>\n",
       "      <td>+</td>\n",
       "      <td>.</td>\n",
       "      <td>NaN</td>\n",
       "      <td>NaN</td>\n",
       "      <td>NaN</td>\n",
       "      <td>NaN</td>\n",
       "      <td>NaN</td>\n",
       "      <td>NaN</td>\n",
       "      <td>pseudogene</td>\n",
       "      <td>ENSG00000223972</td>\n",
       "      <td>DDX11L1</td>\n",
       "      <td>ensembl_havana</td>\n",
       "      <td>NaN</td>\n",
       "      <td>NaN</td>\n",
       "      <td>NaN</td>\n",
       "      <td>NaN</td>\n",
       "      <td>ENST00000456328</td>\n",
       "      <td>DDX11L1-002</td>\n",
       "      <td>havana</td>\n",
       "    </tr>\n",
       "    <tr>\n",
       "      <th>2</th>\n",
       "      <td>1</td>\n",
       "      <td>processed_transcript</td>\n",
       "      <td>exon</td>\n",
       "      <td>11869</td>\n",
       "      <td>12227</td>\n",
       "      <td>.</td>\n",
       "      <td>+</td>\n",
       "      <td>.</td>\n",
       "      <td>NaN</td>\n",
       "      <td>NaN</td>\n",
       "      <td>NaN</td>\n",
       "      <td>NaN</td>\n",
       "      <td>ENSE00002234944</td>\n",
       "      <td>1.0</td>\n",
       "      <td>pseudogene</td>\n",
       "      <td>ENSG00000223972</td>\n",
       "      <td>DDX11L1</td>\n",
       "      <td>ensembl_havana</td>\n",
       "      <td>NaN</td>\n",
       "      <td>NaN</td>\n",
       "      <td>NaN</td>\n",
       "      <td>NaN</td>\n",
       "      <td>ENST00000456328</td>\n",
       "      <td>DDX11L1-002</td>\n",
       "      <td>havana</td>\n",
       "    </tr>\n",
       "    <tr>\n",
       "      <th>3</th>\n",
       "      <td>1</td>\n",
       "      <td>processed_transcript</td>\n",
       "      <td>exon</td>\n",
       "      <td>12613</td>\n",
       "      <td>12721</td>\n",
       "      <td>.</td>\n",
       "      <td>+</td>\n",
       "      <td>.</td>\n",
       "      <td>NaN</td>\n",
       "      <td>NaN</td>\n",
       "      <td>NaN</td>\n",
       "      <td>NaN</td>\n",
       "      <td>ENSE00003582793</td>\n",
       "      <td>2.0</td>\n",
       "      <td>pseudogene</td>\n",
       "      <td>ENSG00000223972</td>\n",
       "      <td>DDX11L1</td>\n",
       "      <td>ensembl_havana</td>\n",
       "      <td>NaN</td>\n",
       "      <td>NaN</td>\n",
       "      <td>NaN</td>\n",
       "      <td>NaN</td>\n",
       "      <td>ENST00000456328</td>\n",
       "      <td>DDX11L1-002</td>\n",
       "      <td>havana</td>\n",
       "    </tr>\n",
       "    <tr>\n",
       "      <th>4</th>\n",
       "      <td>1</td>\n",
       "      <td>processed_transcript</td>\n",
       "      <td>exon</td>\n",
       "      <td>13221</td>\n",
       "      <td>14409</td>\n",
       "      <td>.</td>\n",
       "      <td>+</td>\n",
       "      <td>.</td>\n",
       "      <td>NaN</td>\n",
       "      <td>NaN</td>\n",
       "      <td>NaN</td>\n",
       "      <td>NaN</td>\n",
       "      <td>ENSE00002312635</td>\n",
       "      <td>3.0</td>\n",
       "      <td>pseudogene</td>\n",
       "      <td>ENSG00000223972</td>\n",
       "      <td>DDX11L1</td>\n",
       "      <td>ensembl_havana</td>\n",
       "      <td>NaN</td>\n",
       "      <td>NaN</td>\n",
       "      <td>NaN</td>\n",
       "      <td>NaN</td>\n",
       "      <td>ENST00000456328</td>\n",
       "      <td>DDX11L1-002</td>\n",
       "      <td>havana</td>\n",
       "    </tr>\n",
       "  </tbody>\n",
       "</table>\n",
       "</div>"
      ],
      "text/plain": [
       "   seqname                source     feature  start    end score strand frame  CCDS  ccds_id  cds_end_NF  cds_start_NF          exon_id  exon_number gene_biotype          gene_id gene_name     gene_source  mRNA_end_NF  mRNA_start_NF  protein_id  seleno    transcript_id transcript_name  \\\n",
       "0  1        pseudogene            gene        11869  14412  .     +      .    NaN   NaN      NaN         NaN            NaN             NaN           pseudogene   ENSG00000223972  DDX11L1   ensembl_havana NaN          NaN            NaN         NaN      NaN              NaN              \n",
       "1  1        processed_transcript  transcript  11869  14409  .     +      .    NaN   NaN      NaN         NaN            NaN             NaN           pseudogene   ENSG00000223972  DDX11L1   ensembl_havana NaN          NaN            NaN         NaN      ENST00000456328  DDX11L1-002      \n",
       "2  1        processed_transcript  exon        11869  12227  .     +      .    NaN   NaN      NaN         NaN            ENSE00002234944  1.0          pseudogene   ENSG00000223972  DDX11L1   ensembl_havana NaN          NaN            NaN         NaN      ENST00000456328  DDX11L1-002      \n",
       "3  1        processed_transcript  exon        12613  12721  .     +      .    NaN   NaN      NaN         NaN            ENSE00003582793  2.0          pseudogene   ENSG00000223972  DDX11L1   ensembl_havana NaN          NaN            NaN         NaN      ENST00000456328  DDX11L1-002      \n",
       "4  1        processed_transcript  exon        13221  14409  .     +      .    NaN   NaN      NaN         NaN            ENSE00002312635  3.0          pseudogene   ENSG00000223972  DDX11L1   ensembl_havana NaN          NaN            NaN         NaN      ENST00000456328  DDX11L1-002      \n",
       "\n",
       "  transcript_source  \n",
       "0  NaN               \n",
       "1  havana            \n",
       "2  havana            \n",
       "3  havana            \n",
       "4  havana            "
      ]
     },
     "execution_count": 4,
     "metadata": {},
     "output_type": "execute_result"
    }
   ],
   "source": [
    "ndf1.head()"
   ]
  },
  {
   "cell_type": "code",
   "execution_count": 5,
   "metadata": {
    "collapsed": false
   },
   "outputs": [],
   "source": [
    "ndf2 = pd.read_csv('./examples/Homo_sapiens.GRCh38.92.csv', nrows=100)"
   ]
  },
  {
   "cell_type": "code",
   "execution_count": 6,
   "metadata": {
    "collapsed": false
   },
   "outputs": [
    {
     "name": "stdout",
     "output_type": "stream",
     "text": [
      " 1 seqname                      2 source                       3 feature                     \n",
      " 4 start                        5 end                          6 score                       \n",
      " 7 strand                       8 frame                        9 CCDS                        \n",
      "10 basic                       11 ccds_id                     12 cds_end_NF                  \n",
      "13 cds_start_NF                14 exon_id                     15 exon_number                 \n",
      "16 exon_version                17 gene_biotype                18 gene_id                     \n",
      "19 gene_name                   20 gene_source                 21 gene_version                \n",
      "22 mRNA_end_NF                 23 mRNA_start_NF               24 protein_id                  \n",
      "25 protein_version             26 seleno                      27 transcript_biotype          \n",
      "28 transcript_id               29 transcript_name             30 transcript_source           \n",
      "31 transcript_support_level    32 transcript_version          "
     ]
    }
   ],
   "source": [
    "_cols = ndf2.columns.tolist()\n",
    "for k, i in enumerate(_cols):\n",
    "    if k % 3 == 0 and k > 0:\n",
    "        print()\n",
    "    print('{0:2d} {1:28s}'.format(k + 1, i), end='')"
   ]
  },
  {
   "cell_type": "code",
   "execution_count": 7,
   "metadata": {
    "collapsed": false
   },
   "outputs": [
    {
     "name": "stdout",
     "output_type": "stream",
     "text": [
      " 1 seqname                      2 source                       3 feature                     \n",
      " 4 start                        5 end                          6 score                       \n",
      " 7 strand                       8 frame                        9 CCDS                        \n",
      "10 basic                       11 ccds_id                     12 cds_end_NF                  \n",
      "13 cds_start_NF                14 exon_id                     15 exon_number                 \n",
      "16 exon_version                17 gene_biotype                18 gene_id                     \n",
      "19 gene_name                   20 gene_source                 21 gene_version                \n",
      "22 mRNA_end_NF                 23 mRNA_start_NF               24 protein_id                  \n",
      "25 protein_version             26 seleno                      27 transcript_biotype          \n",
      "28 transcript_id               29 transcript_name             30 transcript_source           \n",
      "31 transcript_support_level    32 transcript_version          "
     ]
    }
   ],
   "source": [
    "_cols = ndf2.columns.tolist()\n",
    "_cols = _cols[:8] + list(sorted(_cols[8:]))\n",
    "for k, i in enumerate(_cols):\n",
    "    if k % 3 == 0 and k > 0:\n",
    "        print()\n",
    "    print('{0:2d} {1:28s}'.format(k + 1, i), end='')"
   ]
  },
  {
   "cell_type": "code",
   "execution_count": 8,
   "metadata": {
    "collapsed": true
   },
   "outputs": [],
   "source": [
    "s1 = set(ndf1.columns.values)\n",
    "s2 = set(ndf2.columns.values)"
   ]
  },
  {
   "cell_type": "code",
   "execution_count": 9,
   "metadata": {
    "collapsed": false
   },
   "outputs": [
    {
     "data": {
      "text/plain": [
       "set()"
      ]
     },
     "execution_count": 9,
     "metadata": {},
     "output_type": "execute_result"
    }
   ],
   "source": [
    "s1.difference(s2)"
   ]
  },
  {
   "cell_type": "code",
   "execution_count": 10,
   "metadata": {
    "collapsed": false
   },
   "outputs": [
    {
     "name": "stdout",
     "output_type": "stream",
     "text": [
      "basic\n",
      "exon_version\n",
      "gene_version\n",
      "protein_version\n",
      "transcript_biotype\n",
      "transcript_support_level\n",
      "transcript_version\n"
     ]
    }
   ],
   "source": [
    "for i in sorted(s2.difference(s1)):print(i)"
   ]
  },
  {
   "cell_type": "code",
   "execution_count": null,
   "metadata": {
    "collapsed": true
   },
   "outputs": [],
   "source": []
  }
 ],
 "metadata": {
  "anaconda-cloud": {},
  "kernelspec": {
   "display_name": "Python [default]",
   "language": "python",
   "name": "python3"
  },
  "language_info": {
   "codemirror_mode": {
    "name": "ipython",
    "version": 3
   },
   "file_extension": ".py",
   "mimetype": "text/x-python",
   "name": "python",
   "nbconvert_exporter": "python",
   "pygments_lexer": "ipython3",
   "version": "3.5.3"
  }
 },
 "nbformat": 4,
 "nbformat_minor": 1
}
